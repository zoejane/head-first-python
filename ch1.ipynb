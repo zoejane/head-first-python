{
 "cells": [
  {
   "cell_type": "markdown",
   "metadata": {},
   "source": [
    "# ch1 - 初识 Python"
   ]
  },
  {
   "cell_type": "markdown",
   "metadata": {},
   "source": [
    "## 列表功能"
   ]
  },
  {
   "cell_type": "code",
   "execution_count": 40,
   "metadata": {},
   "outputs": [
    {
     "name": "stdout",
     "output_type": "stream",
     "text": [
      "['Cleese', 'Palin', 'Jones', 'Idle']\n",
      "4\n",
      "Palin\n"
     ]
    }
   ],
   "source": [
    "cast = [\"Cleese\", 'Palin', 'Jones', \"Idle\"]\n",
    "print(cast)\n",
    "print(len(cast))\n",
    "print(cast[1])"
   ]
  },
  {
   "cell_type": "code",
   "execution_count": 41,
   "metadata": {},
   "outputs": [
    {
     "name": "stdout",
     "output_type": "stream",
     "text": [
      "['Cleese', 'Palin', 'Jones', 'Idle', 'Gilliam']\n"
     ]
    }
   ],
   "source": [
    "cast.append(\"Gilliam\")\n",
    "print(cast)"
   ]
  },
  {
   "cell_type": "code",
   "execution_count": 42,
   "metadata": {},
   "outputs": [
    {
     "name": "stdout",
     "output_type": "stream",
     "text": [
      "['Cleese', 'Palin', 'Jones', 'Idle']\n"
     ]
    }
   ],
   "source": [
    "cast.pop()\n",
    "print(cast)"
   ]
  },
  {
   "cell_type": "code",
   "execution_count": 43,
   "metadata": {},
   "outputs": [
    {
     "name": "stdout",
     "output_type": "stream",
     "text": [
      "['Cleese', 'Palin', 'Jones', 'Idle', 'Gilliam', 'Chapman']\n"
     ]
    }
   ],
   "source": [
    "cast.extend([\"Gilliam\", \"Chapman\"])\n",
    "print(cast)"
   ]
  },
  {
   "cell_type": "code",
   "execution_count": 44,
   "metadata": {},
   "outputs": [
    {
     "name": "stdout",
     "output_type": "stream",
     "text": [
      "['Cleese', 'Palin', 'Jones', 'Idle', 'Gilliam']\n"
     ]
    }
   ],
   "source": [
    "cast.remove(\"Chapman\")\n",
    "print(cast)"
   ]
  },
  {
   "cell_type": "code",
   "execution_count": 45,
   "metadata": {},
   "outputs": [
    {
     "name": "stdout",
     "output_type": "stream",
     "text": [
      "['Chapman', 'Cleese', 'Palin', 'Jones', 'Idle', 'Gilliam']\n"
     ]
    }
   ],
   "source": [
    "cast.insert(0, \"Chapman\")\n",
    "print(cast)"
   ]
  },
  {
   "cell_type": "markdown",
   "metadata": {},
   "source": [
    "## 向列表增加更多数据"
   ]
  },
  {
   "cell_type": "code",
   "execution_count": 11,
   "metadata": {},
   "outputs": [],
   "source": [
    "movies = [\"The Holy Grail\", \n",
    "          \"The Life of Brian\",\n",
    "          \"The Meaning of Life\"]"
   ]
  },
  {
   "cell_type": "code",
   "execution_count": 12,
   "metadata": {},
   "outputs": [
    {
     "name": "stdout",
     "output_type": "stream",
     "text": [
      "['The Holy Grail', 1975, 'The Life of Brian', 1979, 'The Meaning of Life', 1983]\n"
     ]
    }
   ],
   "source": [
    "movies1 = movies\n",
    "\n",
    "# insert()\n",
    "\n",
    "movies1.insert(1, 1975)\n",
    "movies1.insert(3, 1979)\n",
    "# movies1.insert(5, 1983)\n",
    "\n",
    "# append()\n",
    "movies1.append(1983)\n",
    "\n",
    "print(movies1)"
   ]
  },
  {
   "cell_type": "code",
   "execution_count": 3,
   "metadata": {},
   "outputs": [
    {
     "name": "stdout",
     "output_type": "stream",
     "text": [
      "['The Holy Grail', 1975, 'The Life of Brian', 1979, 'The Meaning of Life', 1983]\n"
     ]
    }
   ],
   "source": [
    "movies2 = [\"The Holy Grail\", 1975, \"The Life of Brian\", 1979, \"The Meaning of Life\", 1983]\n",
    "print(movies2)"
   ]
  },
  {
   "cell_type": "markdown",
   "metadata": {},
   "source": [
    "## 处理列表数据"
   ]
  },
  {
   "cell_type": "code",
   "execution_count": 48,
   "metadata": {},
   "outputs": [
    {
     "name": "stdout",
     "output_type": "stream",
     "text": [
      "The Holy Grail\n",
      "The Life of Brian\n"
     ]
    }
   ],
   "source": [
    "fav_movies = [\"The Holy Grail\", \"The Life of Brian\"]\n",
    "\n",
    "for each_flick in fav_movies:\n",
    "    print(each_flick)"
   ]
  },
  {
   "cell_type": "markdown",
   "metadata": {},
   "source": [
    "## 在列表中存储列表"
   ]
  },
  {
   "cell_type": "code",
   "execution_count": 19,
   "metadata": {},
   "outputs": [
    {
     "name": "stdout",
     "output_type": "stream",
     "text": [
      "['The Holy Grail', 1975, 'Terry Jones & Terry Gilliam', 91, ['Graham Chapman', ['Michael Palin', 'John Cleese', 'Terry Gilliam', 'Eric Idle', 'Terry Jones']]]\n",
      "Eric Idle\n",
      "The Holy Grail\n",
      "1975\n",
      "Terry Jones & Terry Gilliam\n",
      "91\n",
      "Graham Chapman\n",
      "['Michael Palin', 'John Cleese', 'Terry Gilliam', 'Eric Idle', 'Terry Jones']\n"
     ]
    }
   ],
   "source": [
    "movies = [\n",
    "    \"The Holy Grail\", 1975, \"Terry Jones & Terry Gilliam\", 91,\n",
    "        [\"Graham Chapman\",\n",
    "            [\"Michael Palin\", \"John Cleese\", \"Terry Gilliam\", \"Eric Idle\", \"Terry Jones\"]]\n",
    "]\n",
    "print(movies)\n",
    "print(movies[4][1][3])\n",
    "for each_item in movies:\n",
    "    print(each_item)"
   ]
  },
  {
   "cell_type": "markdown",
   "metadata": {},
   "source": [
    "## 在列表中查找列表"
   ]
  },
  {
   "cell_type": "code",
   "execution_count": 13,
   "metadata": {},
   "outputs": [
    {
     "name": "stdout",
     "output_type": "stream",
     "text": [
      "True\n",
      "True\n",
      "False\n"
     ]
    }
   ],
   "source": [
    "# isinstance(object, classinfo)\n",
    "\n",
    "\n",
    "names = ['Michael', 'Terry']\n",
    "print(isinstance(names, list))\n",
    "\n",
    "num_names = len(names)\n",
    "print(isinstance(num_names, int))\n",
    "print(isinstance(num_names, list))"
   ]
  },
  {
   "cell_type": "markdown",
   "metadata": {},
   "source": [
    "### 寻求帮助\n",
    "\n",
    "- 在 Python 中输入 `dir(__builtins__)` 可以看到 Python 提供的内置方法列表\n",
    "- 所有那些小写的单词都是 BIF(build-in functions) 内置函数\n",
    "- 输入 help 可以获取帮助, 比如想了解 `input()`, 可以输入 `help(input)`"
   ]
  },
  {
   "cell_type": "code",
   "execution_count": 20,
   "metadata": {},
   "outputs": [
    {
     "name": "stdout",
     "output_type": "stream",
     "text": [
      "The Holy Grail\n",
      "1975\n",
      "Terry Jones & Terry Gilliam\n",
      "91\n",
      "Graham Chapman\n",
      "['Michael Palin', 'John Cleese', 'Terry Gilliam', 'Eric Idle', 'Terry Jones']\n"
     ]
    }
   ],
   "source": [
    "movies = [\n",
    "    \"The Holy Grail\", 1975, \"Terry Jones & Terry Gilliam\", 91,\n",
    "        [\"Graham Chapman\",\n",
    "            [\"Michael Palin\", \"John Cleese\", \"Terry Gilliam\", \"Eric Idle\", \"Terry Jones\"]]\n",
    "]\n",
    "\n",
    "for each_item in movies:\n",
    "    if isinstance(each_item, list):\n",
    "        for nested_item in each_item:\n",
    "            print(nested_item)\n",
    "    else:\n",
    "        print(each_item)"
   ]
  },
  {
   "cell_type": "markdown",
   "metadata": {},
   "source": [
    "## 处理多层嵌套列表"
   ]
  },
  {
   "cell_type": "code",
   "execution_count": 22,
   "metadata": {},
   "outputs": [
    {
     "name": "stdout",
     "output_type": "stream",
     "text": [
      "The Holy Grail\n",
      "1975\n",
      "Terry Jones & Terry Gilliam\n",
      "91\n",
      "Graham Chapman\n",
      "Michael Palin\n",
      "John Cleese\n",
      "Terry Gilliam\n",
      "Eric Idle\n",
      "Terry Jones\n"
     ]
    }
   ],
   "source": [
    "movies = [\n",
    "    \"The Holy Grail\", 1975, \"Terry Jones & Terry Gilliam\", 91,\n",
    "        [\"Graham Chapman\",\n",
    "            [\"Michael Palin\", \"John Cleese\", \"Terry Gilliam\", \"Eric Idle\", \"Terry Jones\"]]\n",
    "]\n",
    "\n",
    "for each_item in movies:\n",
    "    if isinstance(each_item, list):\n",
    "        for nested_item in each_item:\n",
    "            if isinstance(nested_item, list):\n",
    "                for deeper_item in nested_item:\n",
    "                    print(deeper_item)\n",
    "            else:\n",
    "                print(nested_item)\n",
    "    else:\n",
    "        print(each_item)"
   ]
  },
  {
   "cell_type": "markdown",
   "metadata": {},
   "source": [
    "## 在 Python 中创建一个函数"
   ]
  },
  {
   "cell_type": "code",
   "execution_count": 24,
   "metadata": {},
   "outputs": [
    {
     "name": "stdout",
     "output_type": "stream",
     "text": [
      "The Holy Grail\n",
      "1975\n",
      "Terry Jones & Terry Gilliam\n",
      "91\n",
      "Graham Chapman\n",
      "Michael Palin\n",
      "John Cleese\n",
      "Terry Gilliam\n",
      "Eric Idle\n",
      "Terry Jones\n"
     ]
    }
   ],
   "source": [
    "movies = [\n",
    "    \"The Holy Grail\", 1975, \"Terry Jones & Terry Gilliam\", 91,\n",
    "        [\"Graham Chapman\",\n",
    "            [\"Michael Palin\", \"John Cleese\", \"Terry Gilliam\", \"Eric Idle\", \"Terry Jones\"]]\n",
    "]\n",
    "\n",
    "def print_lol(the_list):\n",
    "    for each_item in the_list:\n",
    "        if isinstance(each_item, list):\n",
    "            # 在函数内调用自身\n",
    "            print_lol(each_item)\n",
    "        else:\n",
    "            print(each_item)\n",
    "            \n",
    "print_lol(movies)"
   ]
  },
  {
   "cell_type": "markdown",
   "metadata": {},
   "source": [
    "## 解决之道: 递归\n",
    "\n",
    "- 利用函数和递归, 解决代码中存在的复杂性问题\n",
    "    - 通过使用递归函数, 把14行难以理解的杂乱代码, 缩减为6行代码的函数\n",
    "    - 同时, 递归函数能够正确处理任意深度的且套列表, 而不需要额外修改代码\n",
    "- 可重用的代码块, 可以在你和他人的程序中多处使用"
   ]
  },
  {
   "cell_type": "markdown",
   "metadata": {},
   "source": [
    "## 你的 Python 工具箱\n",
    "\n",
    "### Python 术语\n",
    "\n",
    "- `BIF` (build-in functions) - 内置函数\n",
    "- `suite` 组 - Python 代码块, 会通过缩进来指示分则\n",
    "- `Batteries included` 功能齐全 - 这是指 Python 提供了快速高效地完成工作所需的大多数功能"
   ]
  },
  {
   "cell_type": "code",
   "execution_count": null,
   "metadata": {},
   "outputs": [],
   "source": []
  }
 ],
 "metadata": {
  "kernelspec": {
   "display_name": "Python 3",
   "language": "python",
   "name": "python3"
  },
  "language_info": {
   "codemirror_mode": {
    "name": "ipython",
    "version": 3
   },
   "file_extension": ".py",
   "mimetype": "text/x-python",
   "name": "python",
   "nbconvert_exporter": "python",
   "pygments_lexer": "ipython3",
   "version": "3.6.0"
  }
 },
 "nbformat": 4,
 "nbformat_minor": 2
}
